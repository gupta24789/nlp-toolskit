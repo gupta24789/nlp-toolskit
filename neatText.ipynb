{
 "cells": [
  {
   "cell_type": "markdown",
   "metadata": {},
   "source": [
    "Below are the main class of neatText\n",
    "\n",
    "- TextFrame : frame-like object text cleaning\n",
    "    - read_txt\n",
    "    - describe\n",
    "    - word_stats\n",
    "    - head\n",
    "    - tail\n",
    "    - normalize\n",
    "    - word_tokens\n",
    "    - sent_tokens\n",
    "    - bow\n",
    "    - ngrams\n",
    "    - nshortest\n",
    "    - nlongest\n",
    "    - shortest_token\n",
    "    - longest_token\n",
    "- TextCleaner\n",
    "    - remove \n",
    "        - remove_emails\n",
    "        - remove_emails\n",
    "        - remove_numbers\n",
    "        - remove_phone_numbers\n",
    "        - remove_urls\n",
    "        - remove_special_characters\n",
    "        - remove_emojis\n",
    "        - remove_stopwords\n",
    "    - replace\n",
    "        - replace_emails\n",
    "        - replace_numbers\n",
    "        - replace_phone_numbers\n",
    "        - replace_urls\n",
    "        - replace_special_characters\n",
    "        - replace_emojis\n",
    "        - replace_stopwords\n",
    "- TextExtractor\n",
    "    - extract_emails\n",
    "    - extract_numbers\n",
    "    - extract_phone_numbers\n",
    "    - extract_urls\n",
    "    - extract_special_characters\n",
    "    - extract_emojis\n",
    "    - extract_stopwords\n",
    "- TextMetrics : word statistics and counts\n",
    "    - count_vowels\n",
    "    - count_consonants\n",
    "    - count_stopwords\n",
    "    - word_stats\n",
    "\n",
    "\n",
    "#### Below are the way to create above class\n",
    "- TextFrame(text=None)\n",
    "- TextCleaner(text=None)\n",
    "- TextExtractor(text=None)\n",
    "- TextMetrics(text=None)"
   ]
  },
  {
   "cell_type": "code",
   "execution_count": 1,
   "metadata": {},
   "outputs": [],
   "source": [
    "import neattext as nt\n",
    "from pprint import pprint"
   ]
  },
  {
   "cell_type": "code",
   "execution_count": 2,
   "metadata": {},
   "outputs": [
    {
     "data": {
      "text/plain": [
       "TextFrame(text=\"This is the mail example@gmail.com ,our WEBSITE is https://example.com 😊.\")"
      ]
     },
     "execution_count": 2,
     "metadata": {},
     "output_type": "execute_result"
    }
   ],
   "source": [
    "mytext = \"This is the mail example@gmail.com ,our WEBSITE is https://example.com 😊.\"\n",
    "doc = nt.TextFrame(mytext)\n",
    "doc"
   ]
  },
  {
   "cell_type": "markdown",
   "metadata": {},
   "source": [
    "## TextFrame\n",
    "\n",
    "\n",
    "Convert the text into TextFrame after that you can apply the below methods except Extract class."
   ]
  },
  {
   "cell_type": "code",
   "execution_count": 3,
   "metadata": {},
   "outputs": [
    {
     "name": "stdout",
     "output_type": "stream",
     "text": [
      "['_TextMetrics__convert_size', '__class__', '__delattr__', '__dict__',\n",
      " '__dir__', '__doc__', '__eq__', '__format__', '__ge__', '__getattribute__',\n",
      " '__gt__', '__hash__', '__init__', '__init_subclass__', '__le__', '__lt__',\n",
      " '__module__', '__ne__', '__new__', '__reduce__', '__reduce_ex__', '__repr__',\n",
      " '__setattr__', '__sizeof__', '__str__', '__subclasshook__', '__weakref__',\n",
      " 'bow', 'clean_text', 'consonants', 'count_consonants', 'count_content_words',\n",
      " 'count_function_words', 'count_puncts', 'count_special_char',\n",
      " 'count_stopwords', 'count_vowels', 'describe', 'fix_contractions', 'head',\n",
      " 'length', 'lexical_richness', 'longest_token', 'memory_usage', 'ngrams',\n",
      " 'nlongest', 'noise_scan', 'normalize', 'nshortest', 'nunique', 'read_txt',\n",
      " 'readability', 'remove_accents', 'remove_bad_quotes', 'remove_btc_address',\n",
      " 'remove_currencies', 'remove_currency_symbols', 'remove_custom_words',\n",
      " 'remove_dates', 'remove_emails', 'remove_emojis', 'remove_hashtags',\n",
      " 'remove_html_tags', 'remove_mastercard_addr', 'remove_md5sha',\n",
      " 'remove_multiple_spaces', 'remove_non_ascii', 'remove_numbers',\n",
      " 'remove_phone_numbers', 'remove_postoffice_box', 'remove_puncts',\n",
      " 'remove_shortwords', 'remove_special_characters', 'remove_stopwords',\n",
      " 'remove_street_address', 'remove_terms_in_bracket', 'remove_urls',\n",
      " 'remove_userhandles', 'remove_visacard_addr', 'replace_btc_address',\n",
      " 'replace_currencies', 'replace_currency_symbols', 'replace_dates',\n",
      " 'replace_emails', 'replace_emojis', 'replace_mastercard_addr',\n",
      " 'replace_md5sha', 'replace_numbers', 'replace_phone_numbers',\n",
      " 'replace_postoffice_box', 'replace_special_characters',\n",
      " 'replace_street_address', 'replace_term', 'replace_urls',\n",
      " 'replace_userhandles', 'replace_visacard_addr', 'sent_tokens',\n",
      " 'shortest_token', 'tail', 'term_freq', 'text', 'to_csv', 'to_txt', 'unique',\n",
      " 'vowels', 'word_length_freq', 'word_stats', 'word_tokens']\n"
     ]
    }
   ],
   "source": [
    "pprint(dir(doc), compact=True)"
   ]
  },
  {
   "cell_type": "code",
   "execution_count": 4,
   "metadata": {},
   "outputs": [
    {
     "name": "stdout",
     "output_type": "stream",
     "text": [
      "Key      Value          \n",
      "Length  : 73             \n",
      "vowels  : 21             \n",
      "consonants: 34             \n",
      "stopwords: 4              \n",
      "punctuations: 8              \n",
      "special_char: 8              \n",
      "tokens(whitespace): 10             \n",
      "tokens(words): 14             \n"
     ]
    }
   ],
   "source": [
    "mytext = \"This is the mail example@gmail.com ,our WEBSITE is https://example.com 😊.\"\n",
    "doc = nt.TextFrame(mytext)\n",
    "doc.describe()"
   ]
  },
  {
   "cell_type": "code",
   "execution_count": 5,
   "metadata": {},
   "outputs": [
    {
     "data": {
      "text/plain": [
       "['This',\n",
       " 'is',\n",
       " 'the',\n",
       " 'mail',\n",
       " 'examplegmailcom',\n",
       " 'our',\n",
       " 'WEBSITE',\n",
       " 'is',\n",
       " 'httpsexamplecom',\n",
       " '😊']"
      ]
     },
     "execution_count": 5,
     "metadata": {},
     "output_type": "execute_result"
    }
   ],
   "source": [
    "mytext = \"This is the mail example@gmail.com ,our WEBSITE is https://example.com 😊.\"\n",
    "doc = nt.TextFrame(mytext)\n",
    "doc.word_tokens()"
   ]
  },
  {
   "cell_type": "code",
   "execution_count": 6,
   "metadata": {},
   "outputs": [
    {
     "data": {
      "text/plain": [
       "'this is the mail example@gmail.com ,our website is https://example.com 😊.'"
      ]
     },
     "execution_count": 6,
     "metadata": {},
     "output_type": "execute_result"
    }
   ],
   "source": [
    "mytext = \"This is the mail example@gmail.com ,our WEBSITE is https://example.com 😊.\"\n",
    "doc = nt.TextFrame(mytext)\n",
    "doc.normalize()"
   ]
  },
  {
   "cell_type": "code",
   "execution_count": 7,
   "metadata": {},
   "outputs": [
    {
     "data": {
      "text/plain": [
       "'this is the mail examplegmailcom our website is httpsexamplecom '"
      ]
     },
     "execution_count": 7,
     "metadata": {},
     "output_type": "execute_result"
    }
   ],
   "source": [
    "mytext = \"This is the mail example@gmail.com ,our WEBSITE is https://example.com 😊.\"\n",
    "doc = nt.TextFrame(mytext)\n",
    "doc.normalize(level='deep')"
   ]
  },
  {
   "cell_type": "code",
   "execution_count": 8,
   "metadata": {},
   "outputs": [
    {
     "data": {
      "text/plain": [
       "TextFrame(text=\"This is the mail example@gmail.com ,our WEBSITE is https://example.com .\")"
      ]
     },
     "execution_count": 8,
     "metadata": {},
     "output_type": "execute_result"
    }
   ],
   "source": [
    "mytext = \"This is the mail example@gmail.com ,our WEBSITE is https://example.com 😊.\"\n",
    "doc = nt.TextFrame(mytext)\n",
    "doc.remove_emojis()"
   ]
  },
  {
   "cell_type": "code",
   "execution_count": 9,
   "metadata": {},
   "outputs": [
    {
     "data": {
      "text/plain": [
       "TextFrame(text=\"This is the mail example@gmail.com ,our WEBSITE is https://example.com 😊.\")"
      ]
     },
     "execution_count": 9,
     "metadata": {},
     "output_type": "execute_result"
    }
   ],
   "source": [
    "mytext = \"This is the mail example@gmail.com ,our WEBSITE is https://example.com 😊.\"\n",
    "doc = nt.TextFrame(mytext)\n",
    "doc.remove_dates()"
   ]
  },
  {
   "cell_type": "code",
   "execution_count": 10,
   "metadata": {},
   "outputs": [
    {
     "data": {
      "text/plain": [
       "{'this': 1, 'is': 2, 'the': 1}"
      ]
     },
     "execution_count": 10,
     "metadata": {},
     "output_type": "execute_result"
    }
   ],
   "source": [
    "mytext = \"This is the mail example@gmail.com ,our WEBSITE is https://example.com 😊.\"\n",
    "doc = nt.TextFrame(mytext)\n",
    "doc.count_stopwords()"
   ]
  },
  {
   "cell_type": "code",
   "execution_count": 11,
   "metadata": {},
   "outputs": [
    {
     "data": {
      "text/plain": [
       "Counter({'This': 1,\n",
       "         'is': 2,\n",
       "         'the': 1,\n",
       "         'mail': 1,\n",
       "         'example': 2,\n",
       "         'gmail': 1,\n",
       "         'com': 2,\n",
       "         'our': 1,\n",
       "         'WEBSITE': 1,\n",
       "         'https': 1})"
      ]
     },
     "execution_count": 11,
     "metadata": {},
     "output_type": "execute_result"
    }
   ],
   "source": [
    "mytext = \"This is the mail example@gmail.com ,our WEBSITE is https://example.com 😊.\"\n",
    "doc = nt.TextFrame(mytext)\n",
    "doc.bow()"
   ]
  },
  {
   "cell_type": "code",
   "execution_count": 12,
   "metadata": {},
   "outputs": [
    {
     "data": {
      "text/plain": [
       "{'this': 1, 'is': 2, 'the': 1}"
      ]
     },
     "execution_count": 12,
     "metadata": {},
     "output_type": "execute_result"
    }
   ],
   "source": [
    "mytext = \"This is the mail example@gmail.com ,our WEBSITE is https://example.com 😊.\"\n",
    "doc = nt.TextFrame(mytext)\n",
    "doc.count_stopwords()"
   ]
  },
  {
   "cell_type": "code",
   "execution_count": 13,
   "metadata": {},
   "outputs": [
    {
     "data": {
      "text/plain": [
       "['😊', 'the', 'our']"
      ]
     },
     "execution_count": 13,
     "metadata": {},
     "output_type": "execute_result"
    }
   ],
   "source": [
    "mytext = \"This is the mail example@gmail.com ,our WEBSITE is https://example.com 😊.\"\n",
    "doc = nt.TextFrame(mytext)\n",
    "doc.nlongest()"
   ]
  },
  {
   "cell_type": "code",
   "execution_count": 14,
   "metadata": {},
   "outputs": [
    {
     "name": "stdout",
     "output_type": "stream",
     "text": [
      "['This', 'is']\n",
      "['is', 'the']\n",
      "['the', 'mail']\n",
      "['mail', 'example@gmail.com']\n",
      "['example@gmail.com', ',our']\n",
      "[',our', 'WEBSITE']\n",
      "['WEBSITE', 'is']\n",
      "['is', 'https://example.com']\n",
      "['https://example.com', '😊.']\n"
     ]
    }
   ],
   "source": [
    "mytext = \"This is the mail example@gmail.com ,our WEBSITE is https://example.com 😊.\"\n",
    "doc = nt.TextFrame(mytext)\n",
    "doc.ngrams(2)"
   ]
  },
  {
   "cell_type": "code",
   "execution_count": 15,
   "metadata": {},
   "outputs": [
    {
     "name": "stdout",
     "output_type": "stream",
     "text": [
      "['This', 'is', 'the']\n",
      "['is', 'the', 'mail']\n",
      "['the', 'mail', 'example@gmail.com']\n",
      "['mail', 'example@gmail.com', ',our']\n",
      "['example@gmail.com', ',our', 'WEBSITE']\n",
      "[',our', 'WEBSITE', 'is']\n",
      "['WEBSITE', 'is', 'https://example.com']\n",
      "['is', 'https://example.com', '😊.']\n"
     ]
    }
   ],
   "source": [
    "mytext = \"This is the mail example@gmail.com ,our WEBSITE is https://example.com 😊.\"\n",
    "doc = nt.TextFrame(mytext)\n",
    "doc.ngrams(3)"
   ]
  },
  {
   "cell_type": "code",
   "execution_count": 16,
   "metadata": {},
   "outputs": [
    {
     "data": {
      "text/plain": [
       "'this is the mail  our website is  '"
      ]
     },
     "execution_count": 16,
     "metadata": {},
     "output_type": "execute_result"
    }
   ],
   "source": [
    "mytext = \"This is the mail example@gmail.com ,our WEBSITE is https://example.com 😊.\"\n",
    "doc = nt.TextFrame(mytext)\n",
    "doc.clean_text()"
   ]
  },
  {
   "cell_type": "code",
   "execution_count": 17,
   "metadata": {},
   "outputs": [
    {
     "data": {
      "text/plain": [
       "TextFrame(text=\"This is the mail example@gmail.com ,our WEBSITE is https://example.com 😊.\")"
      ]
     },
     "execution_count": 17,
     "metadata": {},
     "output_type": "execute_result"
    }
   ],
   "source": [
    "mytext = \"This is the mail example@gmail.com ,our WEBSITE is https://example.com 😊.\"\n",
    "doc = nt.TextFrame(mytext)\n",
    "doc.remove_multiple_spaces()"
   ]
  },
  {
   "cell_type": "code",
   "execution_count": 18,
   "metadata": {},
   "outputs": [
    {
     "data": {
      "text/plain": [
       "'This is the mail example@gmail.com ,our WEBSITE is  😊.'"
      ]
     },
     "execution_count": 18,
     "metadata": {},
     "output_type": "execute_result"
    }
   ],
   "source": [
    "mytext = \"This is the mail example@gmail.com ,our WEBSITE is https://example.com 😊.\"\n",
    "doc = nt.TextFrame(mytext)\n",
    "doc.remove_urls().text"
   ]
  },
  {
   "cell_type": "code",
   "execution_count": 19,
   "metadata": {},
   "outputs": [
    {
     "data": {
      "text/plain": [
       "TextFrame(text=\"This is the mail  ,our WEBSITE is https://example.com 😊.\")"
      ]
     },
     "execution_count": 19,
     "metadata": {},
     "output_type": "execute_result"
    }
   ],
   "source": [
    "mytext = \"This is the mail example@gmail.com ,our WEBSITE is https://example.com 😊.\"\n",
    "doc = nt.TextFrame(mytext)\n",
    "doc.remove_emails()"
   ]
  },
  {
   "cell_type": "code",
   "execution_count": 20,
   "metadata": {},
   "outputs": [
    {
     "data": {
      "text/plain": [
       "'this is the mail <email> our website is httpsexamplecom '"
      ]
     },
     "execution_count": 20,
     "metadata": {},
     "output_type": "execute_result"
    }
   ],
   "source": [
    "mytext = \"This is the mail example@gmail.com ,our WEBSITE is https://example.com 😊.\"\n",
    "doc = nt.TextFrame(mytext)\n",
    "doc.clean_text(True)"
   ]
  },
  {
   "cell_type": "code",
   "execution_count": 21,
   "metadata": {},
   "outputs": [
    {
     "data": {
      "text/plain": [
       "'This is the mail example@gmail.com ,our WEBSITE is <URL> 😊.'"
      ]
     },
     "execution_count": 21,
     "metadata": {},
     "output_type": "execute_result"
    }
   ],
   "source": [
    "mytext = \"This is the mail example@gmail.com ,our WEBSITE is https://example.com 😊.\"\n",
    "doc = nt.TextFrame(mytext)\n",
    "doc.replace_urls()"
   ]
  },
  {
   "cell_type": "code",
   "execution_count": 22,
   "metadata": {},
   "outputs": [
    {
     "data": {
      "text/plain": [
       "'This is the mail example@gmail.com ,<NUMBER> our WEBSITE is https://example.com 😊.'"
      ]
     },
     "execution_count": 22,
     "metadata": {},
     "output_type": "execute_result"
    }
   ],
   "source": [
    "mytext = \"This is the mail example@gmail.com ,12345 our WEBSITE is https://example.com 😊.\"\n",
    "doc = nt.TextFrame(mytext)\n",
    "doc.replace_numbers()"
   ]
  },
  {
   "cell_type": "code",
   "execution_count": 23,
   "metadata": {},
   "outputs": [
    {
     "data": {
      "text/plain": [
       "'This is the mail example@gmail.com ,12345 our WEBSITE is https://example.com 😊.'"
      ]
     },
     "execution_count": 23,
     "metadata": {},
     "output_type": "execute_result"
    }
   ],
   "source": [
    "mytext = \"This is the mail example@gmail.com ,12345 our WEBSITE is https://example.com 😊.\"\n",
    "doc = nt.TextFrame(mytext)\n",
    "doc.replace_phone_numbers()"
   ]
  },
  {
   "cell_type": "code",
   "execution_count": 24,
   "metadata": {},
   "outputs": [
    {
     "data": {
      "text/plain": [
       "TextFrame(text=\"mail example@gmail.com ,12345 WEBSITE https://example.com 😊.\")"
      ]
     },
     "execution_count": 24,
     "metadata": {},
     "output_type": "execute_result"
    }
   ],
   "source": [
    "mytext = \"This is the mail example@gmail.com ,12345 our WEBSITE is https://example.com 😊.\"\n",
    "doc = nt.TextFrame(mytext)\n",
    "doc.remove_stopwords()"
   ]
  },
  {
   "cell_type": "code",
   "execution_count": 25,
   "metadata": {},
   "outputs": [
    {
     "name": "stdout",
     "output_type": "stream",
     "text": [
      "mail  , WEBSITE  .\n"
     ]
    }
   ],
   "source": [
    "mytext = \"This is the mail example@gmail.com ,12345 our WEBSITE is https://example.com 😊.\"\n",
    "doc = nt.TextFrame(mytext)\n",
    "doc.remove_stopwords().remove_emails().remove_urls().remove_emojis().remove_numbers()\n",
    "print(doc)"
   ]
  },
  {
   "cell_type": "code",
   "execution_count": 26,
   "metadata": {},
   "outputs": [
    {
     "data": {
      "text/plain": [
       "TextFrame(text=\"This is the mail example@gmailcom 12345 our WEBSITE is https://examplecom 😊\")"
      ]
     },
     "execution_count": 26,
     "metadata": {},
     "output_type": "execute_result"
    }
   ],
   "source": [
    "mytext = \"This is the mail example@gmail.com ,12345 our WEBSITE is https://example.com 😊.\"\n",
    "doc = nt.TextFrame(mytext)\n",
    "doc.remove_puncts()"
   ]
  },
  {
   "cell_type": "markdown",
   "metadata": {},
   "source": [
    "## TextExtract"
   ]
  },
  {
   "cell_type": "code",
   "execution_count": 27,
   "metadata": {},
   "outputs": [],
   "source": [
    "mytext = \"This is the mail example@gmail.com ,our WEBSITE is https://example.com 😊.\"\n",
    "doc = nt.TextExtractor(mytext)"
   ]
  },
  {
   "cell_type": "code",
   "execution_count": 28,
   "metadata": {},
   "outputs": [
    {
     "data": {
      "text/plain": [
       "[]"
      ]
     },
     "execution_count": 28,
     "metadata": {},
     "output_type": "execute_result"
    }
   ],
   "source": [
    "doc.extract_dates()"
   ]
  },
  {
   "cell_type": "code",
   "execution_count": 29,
   "metadata": {},
   "outputs": [
    {
     "data": {
      "text/plain": [
       "['😊']"
      ]
     },
     "execution_count": 29,
     "metadata": {},
     "output_type": "execute_result"
    }
   ],
   "source": [
    "doc.extract_emojis()"
   ]
  },
  {
   "cell_type": "code",
   "execution_count": 30,
   "metadata": {},
   "outputs": [
    {
     "data": {
      "text/plain": [
       "[]"
      ]
     },
     "execution_count": 30,
     "metadata": {},
     "output_type": "execute_result"
    }
   ],
   "source": [
    "doc.extract_hashtags()"
   ]
  },
  {
   "cell_type": "code",
   "execution_count": 31,
   "metadata": {},
   "outputs": [
    {
     "data": {
      "text/plain": [
       "['example@gmail.com']"
      ]
     },
     "execution_count": 31,
     "metadata": {},
     "output_type": "execute_result"
    }
   ],
   "source": [
    "doc.extract_emails()"
   ]
  },
  {
   "cell_type": "code",
   "execution_count": 32,
   "metadata": {},
   "outputs": [
    {
     "data": {
      "text/plain": [
       "['https://example.com']"
      ]
     },
     "execution_count": 32,
     "metadata": {},
     "output_type": "execute_result"
    }
   ],
   "source": [
    "doc.extract_urls()"
   ]
  },
  {
   "cell_type": "markdown",
   "metadata": {},
   "source": [
    "## Clean Text using the Method Oriented Approach\n",
    "\n"
   ]
  },
  {
   "cell_type": "code",
   "execution_count": 33,
   "metadata": {},
   "outputs": [],
   "source": [
    "from neattext.functions import clean_text"
   ]
  },
  {
   "cell_type": "code",
   "execution_count": 34,
   "metadata": {},
   "outputs": [],
   "source": [
    "mytext = \"This is the mail example@gmail.com ,our WEBSITE is https://example.com 😊.\""
   ]
  },
  {
   "cell_type": "code",
   "execution_count": 35,
   "metadata": {},
   "outputs": [
    {
     "data": {
      "text/plain": [
       "'mail example@gmail.com ,our website https://example.com .'"
      ]
     },
     "execution_count": 35,
     "metadata": {},
     "output_type": "execute_result"
    }
   ],
   "source": [
    "clean_text(mytext)"
   ]
  },
  {
   "cell_type": "code",
   "execution_count": 36,
   "metadata": {},
   "outputs": [
    {
     "data": {
      "text/plain": [
       "'mail example@gmailcom website https://examplecom '"
      ]
     },
     "execution_count": 36,
     "metadata": {},
     "output_type": "execute_result"
    }
   ],
   "source": [
    "clean_text(mytext, puncts=True)"
   ]
  },
  {
   "cell_type": "code",
   "execution_count": 37,
   "metadata": {},
   "outputs": [
    {
     "data": {
      "text/plain": [
       "'mail ,our website .'"
      ]
     },
     "execution_count": 37,
     "metadata": {},
     "output_type": "execute_result"
    }
   ],
   "source": [
    "clean_text(mytext,stopwords=True, urls=True, emails=True,  puncts=False)"
   ]
  },
  {
   "cell_type": "code",
   "execution_count": null,
   "metadata": {},
   "outputs": [],
   "source": []
  }
 ],
 "metadata": {
  "kernelspec": {
   "display_name": "base",
   "language": "python",
   "name": "python3"
  },
  "language_info": {
   "codemirror_mode": {
    "name": "ipython",
    "version": 3
   },
   "file_extension": ".py",
   "mimetype": "text/x-python",
   "name": "python",
   "nbconvert_exporter": "python",
   "pygments_lexer": "ipython3",
   "version": "3.10.9"
  }
 },
 "nbformat": 4,
 "nbformat_minor": 2
}
